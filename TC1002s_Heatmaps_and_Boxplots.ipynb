{
  "nbformat": 4,
  "nbformat_minor": 0,
  "metadata": {
    "colab": {
      "name": "TC1002s_Heatmaps_and_Boxplots.ipynb",
      "provenance": [],
      "authorship_tag": "ABX9TyNmUB22qoSrTauRvZIM9BoY",
      "include_colab_link": true
    },
    "kernelspec": {
      "name": "python3",
      "display_name": "Python 3"
    },
    "language_info": {
      "name": "python"
    }
  },
  "cells": [
    {
      "cell_type": "markdown",
      "metadata": {
        "id": "view-in-github",
        "colab_type": "text"
      },
      "source": [
        "<a href=\"https://colab.research.google.com/github/JoaquinAprendizaje/TC1002s_Heatmaps_and_Boxplots/blob/main/TC1002s_Heatmaps_and_Boxplots.ipynb\" target=\"_parent\"><img src=\"https://colab.research.google.com/assets/colab-badge.svg\" alt=\"Open In Colab\"/></a>"
      ]
    },
    {
      "cell_type": "markdown",
      "metadata": {
        "id": "wSa4g0A_uN5A"
      },
      "source": [
        " Integrantes:\n",
        "\n",
        "- Rodrigo Garza\n",
        "- Joaquin Beltran\n",
        "- Esthela Cedillo\n",
        "- Francisco Joven"
      ]
    }
  ]
}